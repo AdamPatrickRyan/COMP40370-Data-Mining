{
 "cells": [
  {
   "cell_type": "markdown",
   "id": "635b6cb9",
   "metadata": {},
   "source": [
    "## CPMP40370 Data Mining 2021/22: Practical 2 (Data Preprocessing)"
   ]
  },
  {
   "cell_type": "code",
   "execution_count": 16,
   "id": "f2ca4b98",
   "metadata": {},
   "outputs": [],
   "source": [
    "import pandas as pd\n",
    "import numpy as np\n",
    "import os\n",
    "from sklearn.preprocessing import StandardScaler, MinMaxScaler\n",
    "from sklearn.decomposition import PCA\n",
    "\n",
    "import seaborn as sn\n",
    "import matplotlib.pyplot as plt"
   ]
  },
  {
   "cell_type": "markdown",
   "id": "80dcec5c",
   "metadata": {},
   "source": [
    "### $\\color{blue}{\\text{Question 1}}$"
   ]
  },
  {
   "cell_type": "code",
   "execution_count": 17,
   "id": "5a2c518a",
   "metadata": {},
   "outputs": [],
   "source": [
    "#Reading the csv file into a pandas DataFrame.\n",
    "dfq1 = pd.read_csv('./specs/Students_Results.csv')"
   ]
  },
  {
   "cell_type": "code",
   "execution_count": 18,
   "id": "7f05de37",
   "metadata": {},
   "outputs": [
    {
     "name": "stdout",
     "output_type": "stream",
     "text": [
      "Homework 1: Min-31, Max-90, Mean-55.6, Std-17.88\n",
      "Homework 2: Min-0, Max-98, Mean-89.8, Std-15.44\n",
      "Homework 3: Min-5, Max-100, Mean-47.7, Std-21.59\n",
      "Exam: Min-22, Max-98, Mean-65.2, Std-15.14\n"
     ]
    }
   ],
   "source": [
    "#Considering nulls as ABS (Absences)\n",
    "col = 'Homework 1'\n",
    "print(col +': Min-%.0f, Max-%.0f, Mean-%.1f, Std-%.2f' % (dfq1[col].min(), dfq1[col].max(), dfq1[col].mean(), dfq1[col].std()))\n",
    "\n",
    "col = 'Homework 2'\n",
    "print(col +': Min-%.0f, Max-%.0f, Mean-%.1f, Std-%.2f' % (dfq1[col].min(), dfq1[col].max(), dfq1[col].mean(), dfq1[col].std()))\n",
    "\n",
    "col = 'Homework 3'\n",
    "print(col +': Min-%.0f, Max-%.0f, Mean-%.1f, Std-%.2f' % (dfq1[col].min(), dfq1[col].max(), dfq1[col].mean(), dfq1[col].std()))\n",
    "\n",
    "col = 'Exam'\n",
    "print(col +': Min-%.0f, Max-%.0f, Mean-%.1f, Std-%.2f' % (dfq1[col].min(), dfq1[col].max(), dfq1[col].mean(), dfq1[col].std()))"
   ]
  },
  {
   "cell_type": "code",
   "execution_count": 19,
   "id": "3b9d1a33",
   "metadata": {},
   "outputs": [],
   "source": [
    "#Assuming absentees are given 0 marks for each assigment.\n",
    "dfq1['Homework Avg'] = round(dfq1[['Homework 1', 'Homework 2', 'Homework 3']].sum(axis=1, min_count=1)/3.0, 1)"
   ]
  },
  {
   "cell_type": "code",
   "execution_count": 20,
   "id": "415ca0ee",
   "metadata": {},
   "outputs": [],
   "source": [
    "# Assuming if a student is absence for either all the Homeworks or the Exam, s/he will be given 'ABS'\n",
    "dfq1['Exam'].fillna(0, inplace=True)\n",
    "dfq1['Overall Mark'] = round(dfq1['Homework Avg']*0.25+dfq1['Exam']*0.75, 2)"
   ]
  },
  {
   "cell_type": "code",
   "execution_count": 21,
   "id": "5b5997c6",
   "metadata": {},
   "outputs": [
    {
     "data": {
      "image/png": "[encoded data removed]",
      "text/plain": [
       "<Figure size 432x288 with 2 Axes>"
      ]
     },
     "metadata": {
      "needs_background": "light"
     },
     "output_type": "display_data"
    }
   ],
   "source": [
    "#Use pandas corr() function to get correlation matrix and use seaborn heatmap() to visualise.\n",
    "corrMatrix = round(dfq1.drop(['Student ID'], axis=1).corr(), 3)\n",
    "sn.heatmap(corrMatrix, annot=True)\n",
    "plt.show()"
   ]
  },
  {
   "cell_type": "code",
   "execution_count": 22,
   "id": "7b09be64",
   "metadata": {},
   "outputs": [],
   "source": [
    "#Uisng UCD grading system you can use pandas apply() function with a user-defined function.\n",
    "def gradingUCD(x):    \n",
    "    if x >= 90:\n",
    "        return 'A+'\n",
    "    elif x >= 80:\n",
    "        return 'A'\n",
    "    elif x >= 70:\n",
    "        return 'A-'\n",
    "    elif x >= 66.67:\n",
    "        return 'B+'\n",
    "    elif x >= 63.33:\n",
    "        return 'B'\n",
    "    elif x >= 60:\n",
    "        return 'B-'\n",
    "    elif x >= 56.67:\n",
    "        return 'C+'\n",
    "    elif x >= 53.33:\n",
    "        return 'C'\n",
    "    elif x >= 50:\n",
    "        return 'C-'\n",
    "    elif x >= 46.67:\n",
    "        return 'D+'\n",
    "    elif x >= 43.33:\n",
    "        return 'D'\n",
    "    elif x >= 40:\n",
    "        return 'D-'\n",
    "    elif x >= 36.67:\n",
    "        return 'E+'\n",
    "    elif x >= 33.33:\n",
    "        return 'E'\n",
    "    elif x >= 30:\n",
    "        return 'E-'\n",
    "    elif x >= 26.67:\n",
    "        return 'F+'\n",
    "    elif x >= 23.33:\n",
    "        return 'F'\n",
    "    elif x >= 20:\n",
    "        return 'F-'\n",
    "    elif x >= 16.67:\n",
    "        return 'G+'\n",
    "    elif x >= 13.33:\n",
    "        return 'G'\n",
    "    elif x >= 0.01:\n",
    "        return 'G-'\n",
    "    else:\n",
    "        return 'NM'\n",
    "        \n",
    "dfq1['Grade'] = dfq1['Overall Mark'].apply(gradingUCD)\n",
    "#dfq1['Grade'].value_counts().sort_index()"
   ]
  },
  {
   "cell_type": "code",
   "execution_count": 23,
   "id": "eee8d5af",
   "metadata": {},
   "outputs": [],
   "source": [
    "#Instead of a user-defined function you can use lambda function.\n",
    "#dfq1['Grade'] = dfq1['Overall Mark'].apply(lambda x: 'A+' if x>=90 else ('A' if x>=80 else ('A-' if x >=70 else 'B')))........"
   ]
  },
  {
   "cell_type": "code",
   "execution_count": 25,
   "id": "4b4ff864",
   "metadata": {},
   "outputs": [
    {
     "data": {
      "image/png": "[encoded data removed]",
      "text/plain": [
       "<Figure size 432x288 with 1 Axes>"
      ]
     },
     "metadata": {
      "needs_background": "light"
     },
     "output_type": "display_data"
    }
   ],
   "source": [
    "dft = dfq1[dfq1['Grade'] != 'ABS']\n",
    "dft['Grade'].value_counts().sort_index().plot(kind='bar', color='slategray')\n",
    "plt.xlabel('Grade')\n",
    "plt.ylabel('# of Students')\n",
    "plt.grid(True)\n",
    "plt.show()"
   ]
  },
  {
   "cell_type": "code",
   "execution_count": 26,
   "id": "54a40171",
   "metadata": {},
   "outputs": [],
   "source": [
    "#Creating the output directory and writing the new dataframe into a csv file\n",
    "os.mkdir('output')\n",
    "dfq1.to_csv('output/question1_out.csv', index=False)"
   ]
  },
  {
   "cell_type": "markdown",
   "id": "d9ac703a",
   "metadata": {},
   "source": [
    "### $\\color{blue}{\\text{Question 2}}$"
   ]
  },
  {
   "cell_type": "code",
   "execution_count": 61,
   "id": "e7d037aa",
   "metadata": {},
   "outputs": [],
   "source": [
    "dfq2 = pd.read_csv('./specs/Sensor_Data.csv')"
   ]
  },
  {
   "cell_type": "code",
   "execution_count": 62,
   "id": "bff22837",
   "metadata": {},
   "outputs": [],
   "source": [
    "#Copying data columns into new columns.\n",
    "dfq2['Original Input3'] = dfq2['Input3']\n",
    "dfq2['Original Input12'] = dfq2['Input12']"
   ]
  },
  {
   "cell_type": "code",
   "execution_count": 63,
   "id": "97b06dcb",
   "metadata": {},
   "outputs": [
    {
     "name": "stdout",
     "output_type": "stream",
     "text": [
      "-0.0\n",
      "1.0\n"
     ]
    }
   ],
   "source": [
    "# Use of sklearn StandardScaler() to get z-score values (Mean=0, Std=1)\n",
    "dfq2['Input3'] = StandardScaler().fit_transform(dfq2[['Original Input3']].values)\n",
    "dfq2['Input3'] = round(dfq2['Input3'], 3)\n",
    "print(round(dfq2['Input3'].mean(), 2))\n",
    "print(round(dfq2['Input3'].std(), 2))"
   ]
  },
  {
   "cell_type": "code",
   "execution_count": 64,
   "id": "c952ebbb",
   "metadata": {},
   "outputs": [
    {
     "name": "stdout",
     "output_type": "stream",
     "text": [
      "0.0\n",
      "1.0\n"
     ]
    }
   ],
   "source": [
    "# Use of sklearn MinMaxScaler() to get normalised values (Min=0, Max=1)\n",
    "dfq2['Input12'] = MinMaxScaler().fit_transform(dfq2[['Original Input12']].values)\n",
    "dfq2['Input12'] = round(dfq2['Input12'], 3)\n",
    "print(round(dfq2['Input12'].min(), 2))\n",
    "print(round(dfq2['Input12'].max(), 2))"
   ]
  },
  {
   "cell_type": "code",
   "execution_count": 65,
   "id": "00de9518",
   "metadata": {},
   "outputs": [],
   "source": [
    "#Creating a new clumn with average of a set of selected columns\n",
    "dfq2['Average Input'] = dfq2[['Input1', 'Input2', 'Input3', 'Input4', 'Input5', 'Input6', 'Input7', 'Input8', 'Input9', 'Input10', 'Input11', 'Input12']].mean(axis=1)"
   ]
  },
  {
   "cell_type": "code",
   "execution_count": 66,
   "id": "e2a0f8a5",
   "metadata": {},
   "outputs": [],
   "source": [
    "dfq2.to_csv('output/question2_out.csv', index=False)"
   ]
  },
  {
   "cell_type": "markdown",
   "id": "44341e5c",
   "metadata": {},
   "source": [
    "### $\\color{blue}{\\text{Question 3}}$"
   ]
  },
  {
   "cell_type": "code",
   "execution_count": 67,
   "id": "107676d2",
   "metadata": {},
   "outputs": [],
   "source": [
    "dfq3 = pd.read_csv('./specs/DNA_Data.csv')"
   ]
  },
  {
   "cell_type": "code",
   "execution_count": 68,
   "id": "a03da99a",
   "metadata": {},
   "outputs": [
    {
     "name": "stdout",
     "output_type": "stream",
     "text": [
      "Number of PCs 22\n"
     ]
    }
   ],
   "source": [
    "# Use of sklearn PCA with 95% varianace explained\n",
    "pca = PCA(0.95)\n",
    "principalComponents = pca.fit_transform(dfq3)\n",
    "print(\"Number of PCs %d\" % pca.n_components_)\n",
    "#pca.explained_variance_ratio_"
   ]
  },
  {
   "cell_type": "code",
   "execution_count": 69,
   "id": "5d6f099a",
   "metadata": {},
   "outputs": [],
   "source": [
    "# Use of cut() function to categorise data into 10 equal length groups\n",
    "labels = ['Group0', 'Group1', 'Group2', 'Group3', 'Group4', 'Group5', 'Group6', 'Group7', 'Group8', 'Group9']\n",
    "\n",
    "for i in range(0, 22):\n",
    "    label = 'pca'+str(i+1)+'_width'\n",
    "    dfq3[label] = pd.cut(principalComponents[:,i], bins=10, labels=labels)"
   ]
  },
  {
   "cell_type": "code",
   "execution_count": 70,
   "id": "ffd24864",
   "metadata": {},
   "outputs": [],
   "source": [
    "# Use of qcut() function to categorise data into 10 equal count (quantile) groups\n",
    "for i in range(0, 22):\n",
    "    label = 'pca'+str(i+1)+'_freq'\n",
    "    dfq3[label] = pd.qcut(principalComponents[:,i], q=10, labels=labels)"
   ]
  },
  {
   "cell_type": "code",
   "execution_count": 71,
   "id": "72ce31e9",
   "metadata": {},
   "outputs": [],
   "source": [
    "dfq3.to_csv('output/question3_out.csv', index=False)"
   ]
  },
  {
   "cell_type": "code",
   "execution_count": null,
   "id": "6b0e5773",
   "metadata": {},
   "outputs": [],
   "source": []
  }
 ],
 "metadata": {
  "kernelspec": {
   "display_name": "Python 3 (ipykernel)",
   "language": "python",
   "name": "python3"
  },
  "language_info": {
   "codemirror_mode": {
    "name": "ipython",
    "version": 3
   },
   "file_extension": ".py",
   "mimetype": "text/x-python",
   "name": "python",
   "nbconvert_exporter": "python",
   "pygments_lexer": "ipython3",
   "version": "3.8.10"
  }
 },
 "nbformat": 4,
 "nbformat_minor": 5
}
