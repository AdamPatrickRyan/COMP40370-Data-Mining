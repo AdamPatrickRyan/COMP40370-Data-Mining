{
 "cells": [
  {
   "cell_type": "markdown",
   "id": "54a6d987",
   "metadata": {},
   "source": [
    "## Slide 31 - Lecture 2\n",
    "\n",
    "Q: Suppose that the data for analysis includes the attribute age. The age values for the data tuples are (in increasing order):  \n",
    "\n",
    "13, 15, 16, 16, 19, 20, 20, 21, 22, 22, 25, 25, 25, 25, 30, 33, 33, 35, 35, 35, 35, 36, 40, 45, 46, 52, 70\n",
    "\n",
    "1. Calculate the mean, median, and standard deviation of age.\n",
    "2. What is the mode of the data? Comment on the data’s modality (i.e.,binomial,trinomial,etc.)?\n",
    "3. What is the mid range of the data? \n",
    "4. Can you find Q1 and Q3?\n",
    "5. Draw the boxplots for age.\n",
    "6. Give the five-number-summary of the data. \n",
    "7. Normalise the variable age based on z-score normalisation."
   ]
  },
  {
   "cell_type": "code",
   "execution_count": 36,
   "id": "5244a51b",
   "metadata": {},
   "outputs": [],
   "source": [
    "import pandas as pd\n",
    "import numpy as np\n",
    "import matplotlib.pyplot as plt\n",
    "import seaborn as sns\n",
    "import scipy.stats as sci_stat \n",
    "\n",
    "plt.style.use('ggplot') "
   ]
  },
  {
   "cell_type": "code",
   "execution_count": 26,
   "id": "0436ba76",
   "metadata": {},
   "outputs": [],
   "source": [
    "data_set=[13\n",
    "    ,  15\n",
    "    ,  16\n",
    "    ,  16\n",
    "    ,  19\n",
    "    ,  20\n",
    "    ,  20\n",
    "    ,  21\n",
    "    ,  22\n",
    "    ,  22\n",
    "    ,  25\n",
    "    ,  25\n",
    "    ,  25\n",
    "    ,  25\n",
    "    ,  30\n",
    "    ,  33\n",
    "    ,  33\n",
    "    ,  35\n",
    "    ,  35\n",
    "    ,  35\n",
    "    ,  35\n",
    "    ,  36\n",
    "    ,  40\n",
    "    ,  45\n",
    "    ,  46\n",
    "    ,  52\n",
    "    ,  70]\n",
    "\n",
    "age_df=pd.DataFrame(data_set)"
   ]
  },
  {
   "cell_type": "markdown",
   "id": "e85bf50f",
   "metadata": {},
   "source": [
    "---\n",
    "\n",
    "1. Calculate the mean, median, and standard deviationof age."
   ]
  },
  {
   "cell_type": "code",
   "execution_count": 3,
   "id": "b7fd1185",
   "metadata": {},
   "outputs": [
    {
     "name": "stdout",
     "output_type": "stream",
     "text": [
      "\n",
      "The mean: 29.962962962962962\n",
      "The median: 25.0\n",
      "The standard deviation: 12.700193878606099\n",
      "\n"
     ]
    }
   ],
   "source": [
    "question_one_string=\"\"\"\n",
    "The mean: {}\n",
    "The median: {}\n",
    "The standard deviation: {}\n",
    "\"\"\"\n",
    "\n",
    "print(question_one_string.format(np.mean(data_set),np.median(data_set),np.std(data_set)))"
   ]
  },
  {
   "cell_type": "markdown",
   "id": "3e7074bd",
   "metadata": {},
   "source": [
    "---\n",
    "\n",
    "2. What is the mode of the data? Comment on the data’s modality (i.e.,binomial,trinomial,etc.)?"
   ]
  },
  {
   "cell_type": "code",
   "execution_count": 8,
   "id": "883906e4",
   "metadata": {},
   "outputs": [
    {
     "name": "stdout",
     "output_type": "stream",
     "text": [
      "\n",
      "What is the mode of the data? Answer: ModeResult(mode=array([25]), count=array([4])) \n",
      "\n"
     ]
    }
   ],
   "source": [
    "question_two_string=\"\"\"\n",
    "What is the mode of the data? Answer: {} \n",
    "\"\"\"\n",
    "\n",
    "print(question_two_string.format(sci_stat.mode(data_set,axis=0)[0]))\n",
    "\n",
    "answer_two_part_two_string=\"\"\"\n",
    "The data’s modality is: {}\n",
    "We see this in the graph:\n",
    "\"\"\"\n",
    "print(answer_two_part_two_string.format('Unimodal, skewed right'))\n",
    "age_df.plot.hist(bins=8)"
   ]
  },
  {
   "cell_type": "markdown",
   "id": "b131bdfe",
   "metadata": {},
   "source": [
    "---\n",
    "3. What is the mid range of the data? \n",
    "4. Can you find Q1 and Q3?"
   ]
  },
  {
   "cell_type": "code",
   "execution_count": 33,
   "id": "0beea1ac",
   "metadata": {},
   "outputs": [
    {
     "name": "stdout",
     "output_type": "stream",
     "text": [
      "\n",
      "Q1: 20.5\n",
      "Q3: 35.0\n",
      "\n"
     ]
    }
   ],
   "source": [
    "if len(age_df.describe().T)>1:\n",
    "    raise ValueError(\"\"\"There should be only a single row in age.\"\"\")\n",
    "\n",
    "print(\"\"\"\n",
    "Q1: {}\n",
    "Q3: {}\n",
    "\"\"\".format(age_df.describe().T['25%'][0]\n",
    "          ,age_df.describe().T['75%'][0]))\n"
   ]
  },
  {
   "cell_type": "markdown",
   "id": "e3c124fd",
   "metadata": {},
   "source": [
    "---\n",
    "5. Draw the boxplots for age."
   ]
  },
  {
   "cell_type": "code",
   "execution_count": 37,
   "id": "a39041d4",
   "metadata": {},
   "outputs": [
    {
     "name": "stdout",
     "output_type": "stream",
     "text": [
      "Draw the boxplots for age:\n"
     ]
    },
    {
     "data": {
      "text/plain": [
       "<AxesSubplot:>"
      ]
     },
     "execution_count": 37,
     "metadata": {},
     "output_type": "execute_result"
    },
    {
     "data": {
      "image/png": "[encoded data removed]",
      "text/plain": [
       "<Figure size 432x288 with 1 Axes>"
      ]
     },
     "metadata": {},
     "output_type": "display_data"
    }
   ],
   "source": [
    "print('Draw the boxplots for age:')\n",
    "age_df.plot.box()"
   ]
  },
  {
   "cell_type": "markdown",
   "id": "ebf085f0",
   "metadata": {},
   "source": [
    "---\n",
    "\n",
    "6. Give the five-number-summary of the data. "
   ]
  },
  {
   "cell_type": "code",
   "execution_count": 42,
   "id": "d5974e28",
   "metadata": {},
   "outputs": [],
   "source": [
    "def five_number_summary(list_of_numbers=[1]):\n",
    "    \"\"\"A function to get five_number_summary as described in Lecture 2 Slide 21\"\"\"\n",
    "    if type(list_of_numbers)!=list:\n",
    "        raise ValueError(\"Needs to be a list\")\n",
    "    \n",
    "    value_dict={\n",
    "        'min':np.min(list_of_numbers)\n",
    "        ,'Q1':pd.DataFrame(list_of_numbers).describe().T['25%'][0] \n",
    "        ,'median':np.median(list_of_numbers) \n",
    "        ,'Q3':pd.DataFrame(list_of_numbers).describe().T['75%'][0]\n",
    "        ,'max':np.max(list_of_numbers)\n",
    "        \n",
    "    }\n",
    "    \n",
    "    print(\"\"\"\n",
    "min()={} \n",
    "Q1={} \n",
    "median={} \n",
    "Q3={} \n",
    "max()={}\"\"\".format(\n",
    "        value_dict['min']\n",
    "        ,value_dict['Q1']\n",
    "        ,value_dict['median']\n",
    "        ,value_dict['Q3']\n",
    "        ,value_dict['max']\n",
    "                    )\n",
    "         )\n",
    "    \n",
    "    return value_dict"
   ]
  },
  {
   "cell_type": "code",
   "execution_count": 43,
   "id": "55e7c60f",
   "metadata": {},
   "outputs": [
    {
     "name": "stdout",
     "output_type": "stream",
     "text": [
      "\n",
      "min()=13 \n",
      "Q1=20.5 \n",
      "median=25.0 \n",
      "Q3=35.0 \n",
      "max()=70\n"
     ]
    },
    {
     "data": {
      "text/plain": [
       "{'min': 13, 'Q1': 20.5, 'median': 25.0, 'Q3': 35.0, 'max': 70}"
      ]
     },
     "execution_count": 43,
     "metadata": {},
     "output_type": "execute_result"
    }
   ],
   "source": [
    "five_number_summary(list_of_numbers=data_set)"
   ]
  },
  {
   "cell_type": "markdown",
   "id": "1df73f06",
   "metadata": {},
   "source": [
    "---\n",
    "\n",
    "7. Normalise the variable age based on z-score normalisation."
   ]
  },
  {
   "cell_type": "code",
   "execution_count": 48,
   "id": "5dee6437",
   "metadata": {},
   "outputs": [
    {
     "name": "stdout",
     "output_type": "stream",
     "text": [
      "\n",
      "Normalise the variable age based on z-score normalisation:\n",
      "\n",
      "Normalised Data Set:\n",
      "[-1.3356459850221374, -1.1781680741243308, -1.0994291186754275, -1.0994291186754275, -0.8632122523287176, -0.7844732968798143, -0.7844732968798143, -0.705734341430911, -0.6269953859820077, -0.6269953859820077, -0.39077851963529775, -0.39077851963529775, -0.39077851963529775, -0.39077851963529775, 0.0029162576092187234, 0.23913312395592862, 0.23913312395592862, 0.3966110348537352, 0.3966110348537352, 0.3966110348537352, 0.3966110348537352, 0.4753499903026385, 0.7903058120982517, 1.1840005893427683, 1.2627395447916716, 1.7351732774850914, 3.152474475565351]\n",
      "\n"
     ]
    }
   ],
   "source": [
    "def get_z_score_normalised_data(dataset=[1]):\n",
    "    \"\"\"\n",
    "    A function to normalise data by z score - Assuming a single list\n",
    "    \"\"\"\n",
    "    \n",
    "    if type(dataset)!=list:\n",
    "        raise ValueError(\"Should be list\")\n",
    "        \n",
    "    for value in dataset:\n",
    "        if type(value)!=float and type(value)!=int:\n",
    "            raise ValueError(\"Should be list of value\")\n",
    "\n",
    "    mean_of_dataset=np.mean(dataset)\n",
    "    std_of_dataset=np.std(dataset)\n",
    "    \n",
    "    new_dataset=[]\n",
    "    \n",
    "    for value in dataset:\n",
    "        z_score=(value - mean_of_dataset)/std_of_dataset\n",
    "        new_dataset+=[z_score]\n",
    "        \n",
    "    return new_dataset\n",
    "\n",
    "normalised_data=get_z_score_normalised_data(dataset=data_set)\n",
    "\n",
    "print(\"\"\"\n",
    "Normalise the variable age based on z-score normalisation:\n",
    "\n",
    "Normalised Data Set:\n",
    "{}\n",
    "\"\"\".format(normalised_data))"
   ]
  },
  {
   "cell_type": "code",
   "execution_count": null,
   "id": "eb4e9f1a",
   "metadata": {},
   "outputs": [],
   "source": []
  },
  {
   "cell_type": "code",
   "execution_count": null,
   "id": "7fd561ca",
   "metadata": {},
   "outputs": [],
   "source": []
  }
 ],
 "metadata": {
  "kernelspec": {
   "display_name": "Python 3",
   "language": "python",
   "name": "python3"
  },
  "language_info": {
   "codemirror_mode": {
    "name": "ipython",
    "version": 3
   },
   "file_extension": ".py",
   "mimetype": "text/x-python",
   "name": "python",
   "nbconvert_exporter": "python",
   "pygments_lexer": "ipython3",
   "version": "3.8.8"
  }
 },
 "nbformat": 4,
 "nbformat_minor": 5
}
