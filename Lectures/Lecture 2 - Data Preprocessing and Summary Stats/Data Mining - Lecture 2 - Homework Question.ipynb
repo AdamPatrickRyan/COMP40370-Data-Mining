{
 "cells": [
  {
   "cell_type": "markdown",
   "id": "9501eeac",
   "metadata": {},
   "source": [
    "## Slide 31 - Lecture 2\n",
    "\n",
    "Q: Suppose that the data for analysis includes the attribute age. The age values for the data tuples are (in increasing order):  \n",
    "\n",
    "13, 15, 16, 16, 19, 20, 20, 21, 22, 22, 25, 25, 25, 25, 30, 33, 33, 35, 35, 35, 35, 36, 40, 45, 46, 52, 70\n",
    "\n",
    "1. Calculate the mean, median, and standard deviation of age.\n",
    "2. What is the mode of the data? Comment on the data’s modality (i.e.,binomial,trinomial,etc.)?\n",
    "3. What is the mid range of the data? \n",
    "4. Can you find Q1 and Q3?\n",
    "5. Draw the boxplots for age.\n",
    "6. Give the five-number-summary of the data. \n",
    "7. Normalise the variable age based on z-score normalisation."
   ]
  },
  {
   "cell_type": "code",
   "execution_count": 67,
   "id": "80987f02",
   "metadata": {},
   "outputs": [],
   "source": [
    "import pandas as pd\n",
    "import numpy as np\n",
    "import matplotlib.pyplot as plt\n",
    "import seaborn as sns\n",
    "import scipy.stats as sci_stat\n",
    "import math\n",
    "\n",
    "plt.style.use('ggplot') "
   ]
  },
  {
   "cell_type": "code",
   "execution_count": 26,
   "id": "6711b00e",
   "metadata": {},
   "outputs": [],
   "source": [
    "data_set=[13\n",
    "    ,  15\n",
    "    ,  16\n",
    "    ,  16\n",
    "    ,  19\n",
    "    ,  20\n",
    "    ,  20\n",
    "    ,  21\n",
    "    ,  22\n",
    "    ,  22\n",
    "    ,  25\n",
    "    ,  25\n",
    "    ,  25\n",
    "    ,  25\n",
    "    ,  30\n",
    "    ,  33\n",
    "    ,  33\n",
    "    ,  35\n",
    "    ,  35\n",
    "    ,  35\n",
    "    ,  35\n",
    "    ,  36\n",
    "    ,  40\n",
    "    ,  45\n",
    "    ,  46\n",
    "    ,  52\n",
    "    ,  70]\n",
    "\n",
    "age_df=pd.DataFrame(data_set)"
   ]
  },
  {
   "cell_type": "code",
   "execution_count": 64,
   "id": "7b826f07",
   "metadata": {},
   "outputs": [],
   "source": [
    "def my_mean(dataset=[1]):\n",
    "    \n",
    "    if type(dataset)!=list or len(dataset)==0:\n",
    "        raise ValueError(\"Invalid\")\n",
    "    \n",
    "    total=0\n",
    "    \n",
    "    for x in dataset:\n",
    "        total+=x\n",
    "        \n",
    "    mean=total/len(dataset)\n",
    "    \n",
    "    return mean"
   ]
  },
  {
   "cell_type": "code",
   "execution_count": 119,
   "id": "8d78f325",
   "metadata": {},
   "outputs": [
    {
     "data": {
      "text/plain": [
       "True"
      ]
     },
     "execution_count": 119,
     "metadata": {},
     "output_type": "execute_result"
    }
   ],
   "source": [
    "my_mean(dataset=data_set)==np.mean(data_set)"
   ]
  },
  {
   "cell_type": "code",
   "execution_count": 112,
   "id": "9e7c0208",
   "metadata": {},
   "outputs": [],
   "source": [
    "def my_median(dataset=[1]):\n",
    "    \n",
    "    if type(dataset)!=list or len(dataset)==0:\n",
    "        raise ValueError(\"Invalid\")\n",
    "    \n",
    "    for value in dataset:\n",
    "        if type(value)!=float and type(value)!=int:\n",
    "            raise ValueError(\"Should be list of value\")\n",
    "    \n",
    "    dataset.sort()\n",
    "    length_of_dataset=len(dataset)\n",
    "    \n",
    "    if length_of_dataset%2==1:\n",
    "        median_index=length_of_dataset//2 #+ 1 <- Python is zero indexed\n",
    "        print('Median Index: ',median_index)\n",
    "        median_value=dataset[median_index]\n",
    "        \n",
    "        \n",
    "    else:\n",
    "        median_index=length_of_dataset//2\n",
    "        print('Median Index: ',median_index)\n",
    "        median_value=(dataset[median_index-1] + dataset[median_index]) / 2 #Python is zero indexed\n",
    "        \n",
    "    return median_value\n",
    "    "
   ]
  },
  {
   "cell_type": "code",
   "execution_count": 118,
   "id": "59197a0a",
   "metadata": {},
   "outputs": [
    {
     "name": "stdout",
     "output_type": "stream",
     "text": [
      "Median Index:  13\n"
     ]
    },
    {
     "data": {
      "text/plain": [
       "True"
      ]
     },
     "execution_count": 118,
     "metadata": {},
     "output_type": "execute_result"
    }
   ],
   "source": [
    "my_median(dataset=data_set)==np.median(data_set)"
   ]
  },
  {
   "cell_type": "code",
   "execution_count": 113,
   "id": "41b20c0e",
   "metadata": {},
   "outputs": [],
   "source": [
    "def my_mode(dataset=[1]):\n",
    "    \n",
    "    if type(dataset)!=list or len(dataset)==0:\n",
    "        raise ValueError(\"Invalid\")\n",
    "    \n",
    "    for value in dataset:\n",
    "        if type(value)!=float and type(value)!=int:\n",
    "            raise ValueError(\"Should be list of value\")\n",
    "    \n",
    "    dict_of_values={}\n",
    "    \n",
    "    for value in dataset:\n",
    "        if value not in dict_of_values:\n",
    "            dict_of_values[value]=0\n",
    "        else:\n",
    "            dict_of_values[value]+=1\n",
    "    \n",
    "    modal_count=max(dict_of_values.values())\n",
    "    \n",
    "    mode_count=0\n",
    "\n",
    "    for key,value in dict_of_values.items():\n",
    "        \n",
    "        if value == modal_count:\n",
    "            mode_count+=1\n",
    "            print(\"Mode {} is: {}\".format(mode_count,key))\n",
    "\n",
    "    return max(dict_of_values, key=dict_of_values.get)\n",
    "    "
   ]
  },
  {
   "cell_type": "code",
   "execution_count": 116,
   "id": "f6b68e28",
   "metadata": {},
   "outputs": [
    {
     "name": "stdout",
     "output_type": "stream",
     "text": [
      "Mode 1 is: 25\n",
      "Mode 2 is: 35\n"
     ]
    },
    {
     "data": {
      "text/plain": [
       "True"
      ]
     },
     "execution_count": 116,
     "metadata": {},
     "output_type": "execute_result"
    }
   ],
   "source": [
    "my_mode(dataset=data_set)==[x[0] for x in sci_stat.mode(data_set,axis=0)][0]"
   ]
  },
  {
   "cell_type": "markdown",
   "id": "78653636",
   "metadata": {},
   "source": [
    "---\n",
    "\n",
    "1. Calculate the mean, median, and standard deviationof age."
   ]
  },
  {
   "cell_type": "code",
   "execution_count": 3,
   "id": "6e14a9d3",
   "metadata": {},
   "outputs": [
    {
     "name": "stdout",
     "output_type": "stream",
     "text": [
      "\n",
      "The mean: 29.962962962962962\n",
      "The median: 25.0\n",
      "The standard deviation: 12.700193878606099\n",
      "\n"
     ]
    }
   ],
   "source": [
    "question_one_string=\"\"\"\n",
    "The mean: {}\n",
    "The median: {}\n",
    "The standard deviation: {}\n",
    "\"\"\"\n",
    "\n",
    "print(question_one_string.format(np.mean(data_set),np.median(data_set),np.std(data_set)))"
   ]
  },
  {
   "cell_type": "markdown",
   "id": "5ff8211e",
   "metadata": {},
   "source": [
    "---\n",
    "\n",
    "2. What is the mode of the data? Comment on the data’s modality (i.e.,binomial,trinomial,etc.)?"
   ]
  },
  {
   "cell_type": "code",
   "execution_count": 121,
   "id": "6543de09",
   "metadata": {},
   "outputs": [
    {
     "name": "stdout",
     "output_type": "stream",
     "text": [
      "Mode 1 is: 25\n",
      "Mode 2 is: 35\n",
      "\n",
      "What is the mode of the data? \n",
      "Answer: 25 \n",
      "\n",
      "\n",
      "The data’s modality is: Multimodal, skewed right\n",
      "\n",
      "We see this in the graph:\n",
      "\n"
     ]
    },
    {
     "data": {
      "text/plain": [
       "<AxesSubplot:ylabel='Frequency'>"
      ]
     },
     "execution_count": 121,
     "metadata": {},
     "output_type": "execute_result"
    },
    {
     "data": {
      "image/png": "[encoded data removed]",
      "text/plain": [
       "<Figure size 432x288 with 1 Axes>"
      ]
     },
     "metadata": {},
     "output_type": "display_data"
    }
   ],
   "source": [
    "my_mode(dataset=data_set)\n",
    "question_two_string=\"\"\"\n",
    "What is the mode of the data? \n",
    "Answer: {} \n",
    "\"\"\"\n",
    "\n",
    "print(question_two_string.format([x[0] for x in sci_stat.mode(data_set,axis=0)][0]))\n",
    "\n",
    "answer_two_part_two_string=\"\"\"\n",
    "The data’s modality is: {}\n",
    "\n",
    "We see this in the graph:\n",
    "\"\"\"\n",
    "print(answer_two_part_two_string.format('Multimodal, skewed right'))\n",
    "age_df.plot.hist(bins=10)"
   ]
  },
  {
   "cell_type": "markdown",
   "id": "d17f9bee",
   "metadata": {},
   "source": [
    "---\n",
    "3. What is the mid range of the data? \n",
    "4. Can you find Q1 and Q3?"
   ]
  },
  {
   "cell_type": "code",
   "execution_count": 33,
   "id": "85b10b6e",
   "metadata": {},
   "outputs": [
    {
     "name": "stdout",
     "output_type": "stream",
     "text": [
      "\n",
      "Q1: 20.5\n",
      "Q3: 35.0\n",
      "\n"
     ]
    }
   ],
   "source": [
    "print(\"\"\"\n",
    "Q1: {}\n",
    "Q3: {}\n",
    "\"\"\".format(np.percentile(data_set, [25])[0]\n",
    "          ,np.percentile(data_set, [75])[0]))\n"
   ]
  },
  {
   "cell_type": "markdown",
   "id": "c4f0f760",
   "metadata": {},
   "source": [
    "---\n",
    "5. Draw the boxplots for age."
   ]
  },
  {
   "cell_type": "code",
   "execution_count": 37,
   "id": "170accf4",
   "metadata": {},
   "outputs": [
    {
     "name": "stdout",
     "output_type": "stream",
     "text": [
      "Draw the boxplots for age:\n"
     ]
    },
    {
     "data": {
      "text/plain": [
       "<AxesSubplot:>"
      ]
     },
     "execution_count": 37,
     "metadata": {},
     "output_type": "execute_result"
    },
    {
     "data": {
      "image/png": "[encoded data removed]",
      "text/plain": [
       "<Figure size 432x288 with 1 Axes>"
      ]
     },
     "metadata": {},
     "output_type": "display_data"
    }
   ],
   "source": [
    "print('Draw the boxplots for age:')\n",
    "age_df.plot.box()"
   ]
  },
  {
   "cell_type": "markdown",
   "id": "ec732580",
   "metadata": {},
   "source": [
    "---\n",
    "\n",
    "6. Give the five-number-summary of the data. "
   ]
  },
  {
   "cell_type": "code",
   "execution_count": 50,
   "id": "aae03e7b",
   "metadata": {},
   "outputs": [],
   "source": [
    "def five_number_summary(list_of_numbers=[1]):\n",
    "    \"\"\"A function to get five_number_summary as described in Lecture 2 Slide 21\"\"\"\n",
    "    if type(list_of_numbers)!=list:\n",
    "        raise ValueError(\"Needs to be a list\")\n",
    "    \n",
    "    value_dict={\n",
    "        'min':np.min(list_of_numbers)\n",
    "        ,'Q1':np.percentile(data_set, [25])[0]\n",
    "        ,'median':np.median(list_of_numbers) \n",
    "        ,'Q3':np.percentile(data_set, [75])[0]\n",
    "        ,'max':np.max(list_of_numbers)\n",
    "        \n",
    "    }\n",
    "    \n",
    "    print(\"\"\"\n",
    "min()={} \n",
    "Q1={} \n",
    "median={} \n",
    "Q3={} \n",
    "max()={}\"\"\".format(\n",
    "        value_dict['min']\n",
    "        ,value_dict['Q1']\n",
    "        ,value_dict['median']\n",
    "        ,value_dict['Q3']\n",
    "        ,value_dict['max']\n",
    "                    )\n",
    "         )\n",
    "    \n",
    "    return value_dict"
   ]
  },
  {
   "cell_type": "code",
   "execution_count": 51,
   "id": "b174c841",
   "metadata": {},
   "outputs": [
    {
     "name": "stdout",
     "output_type": "stream",
     "text": [
      "\n",
      "min()=13 \n",
      "Q1=20.5 \n",
      "median=25.0 \n",
      "Q3=35.0 \n",
      "max()=70\n"
     ]
    },
    {
     "data": {
      "text/plain": [
       "{'min': 13, 'Q1': 20.5, 'median': 25.0, 'Q3': 35.0, 'max': 70}"
      ]
     },
     "execution_count": 51,
     "metadata": {},
     "output_type": "execute_result"
    }
   ],
   "source": [
    "five_number_summary(list_of_numbers=data_set)"
   ]
  },
  {
   "cell_type": "markdown",
   "id": "bf33fdbc",
   "metadata": {},
   "source": [
    "---\n",
    "\n",
    "7. Normalise the variable age based on z-score normalisation."
   ]
  },
  {
   "cell_type": "code",
   "execution_count": 63,
   "id": "2b6c57f0",
   "metadata": {},
   "outputs": [
    {
     "name": "stdout",
     "output_type": "stream",
     "text": [
      "\n",
      "Normalise the variable age based on z-score normalisation:\n",
      "\n",
      "Normalised Data Set:\n",
      "['-1.34', '-1.18', '-1.10', '-1.10', '-0.86', '-0.78', '-0.78', '-0.71', '-0.63', '-0.63', '-0.39', '-0.39', '-0.39', '-0.39', '0.00', '0.24', '0.24', '0.40', '0.40', '0.40', '0.40', '0.48', '0.79', '1.18', '1.26', '1.74', '3.15']\n",
      "\n"
     ]
    }
   ],
   "source": [
    "def get_z_score_normalised_data(dataset=[1]):\n",
    "    \"\"\"\n",
    "    A function to normalise data by z score - Assuming a single list\n",
    "    \"\"\"\n",
    "    \n",
    "    if type(dataset)!=list:\n",
    "        raise ValueError(\"Should be list\")\n",
    "        \n",
    "    for value in dataset:\n",
    "        if type(value)!=float and type(value)!=int:\n",
    "            raise ValueError(\"Should be list of value\")\n",
    "\n",
    "    mean_of_dataset=np.mean(dataset)\n",
    "    std_of_dataset=np.std(dataset)\n",
    "    \n",
    "    new_dataset=[]\n",
    "    \n",
    "    for value in dataset:\n",
    "        z_score=(value - mean_of_dataset)/std_of_dataset\n",
    "        new_dataset+=[z_score]\n",
    "        \n",
    "    return new_dataset\n",
    "\n",
    "normalised_data=get_z_score_normalised_data(dataset=data_set)\n",
    "\n",
    "print(\"\"\"\n",
    "Normalise the variable age based on z-score normalisation:\n",
    "\n",
    "Normalised Data Set:\n",
    "{}\n",
    "\"\"\".format([\"\"\"{:.2f}\"\"\".format(x) for x in normalised_data]))"
   ]
  },
  {
   "cell_type": "code",
   "execution_count": 66,
   "id": "f7c7079a",
   "metadata": {},
   "outputs": [
    {
     "ename": "NameError",
     "evalue": "name 'sort' is not defined",
     "output_type": "error",
     "traceback": [
      "\u001b[0;31m---------------------------------------------------------------------------\u001b[0m",
      "\u001b[0;31mNameError\u001b[0m                                 Traceback (most recent call last)",
      "\u001b[0;32m<ipython-input-66-c4da3b0c33ec>\u001b[0m in \u001b[0;36m<module>\u001b[0;34m\u001b[0m\n\u001b[0;32m----> 1\u001b[0;31m \u001b[0msort\u001b[0m\u001b[0;34m(\u001b[0m\u001b[0mdata_set\u001b[0m\u001b[0;34m)\u001b[0m\u001b[0;34m\u001b[0m\u001b[0;34m\u001b[0m\u001b[0m\n\u001b[0m",
      "\u001b[0;31mNameError\u001b[0m: name 'sort' is not defined"
     ]
    }
   ],
   "source": []
  },
  {
   "cell_type": "code",
   "execution_count": null,
   "id": "bcc79db0",
   "metadata": {},
   "outputs": [],
   "source": []
  }
 ],
 "metadata": {
  "kernelspec": {
   "display_name": "Python 3",
   "language": "python",
   "name": "python3"
  },
  "language_info": {
   "codemirror_mode": {
    "name": "ipython",
    "version": 3
   },
   "file_extension": ".py",
   "mimetype": "text/x-python",
   "name": "python",
   "nbconvert_exporter": "python",
   "pygments_lexer": "ipython3",
   "version": "3.8.8"
  }
 },
 "nbformat": 4,
 "nbformat_minor": 5
}
